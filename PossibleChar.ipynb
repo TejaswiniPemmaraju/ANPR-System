{
 "cells": [
  {
   "cell_type": "code",
   "execution_count": null,
   "id": "b86f086a",
   "metadata": {},
   "outputs": [],
   "source": [
    "import cv2\n",
    "import numpy as np\n",
    "import math"
   ]
  },
  {
   "cell_type": "code",
   "execution_count": null,
   "id": "e51c1aa8",
   "metadata": {},
   "outputs": [],
   "source": [
    "class PossibleChar:\n",
    "    def __init__(self, _contour):\n",
    "        self.contour = _contour\n",
    "        self.boundingRect = cv2.boundingRect(self.contour)\n",
    "        [intX, intY, intWidth, intHeight] = self.boundingRect\n",
    "        self.intBoundingRectX = intX\n",
    "        self.intBoundingRectY = intY\n",
    "        self.intBoundingRectWidth = intWidth\n",
    "        self.intBoundingRectHeight = intHeight\n",
    "        self.intBoundingRectArea = self.intBoundingRectWidth * self.intBoundingRectHeight\n",
    "        self.intCenterX = (self.intBoundingRectX + self.intBoundingRectX + self.intBoundingRectWidth) / 2\n",
    "        self.intCenterY = (self.intBoundingRectY + self.intBoundingRectY + self.intBoundingRectHeight) / 2\n",
    "        self.fltDiagonalSize = math.sqrt((self.intBoundingRectWidth ** 2) + (self.intBoundingRectHeight ** 2))\n",
    "        self.fltAspectRatio = float(self.intBoundingRectWidth) / float(self.intBoundingRectHeight)\n",
    "    # end constructor\n",
    "\n",
    "# end class"
   ]
  }
 ],
 "metadata": {
  "kernelspec": {
   "display_name": "Python 3",
   "language": "python",
   "name": "python3"
  },
  "language_info": {
   "codemirror_mode": {
    "name": "ipython",
    "version": 3
   },
   "file_extension": ".py",
   "mimetype": "text/x-python",
   "name": "python",
   "nbconvert_exporter": "python",
   "pygments_lexer": "ipython3",
   "version": "3.8.8"
  }
 },
 "nbformat": 4,
 "nbformat_minor": 5
}
