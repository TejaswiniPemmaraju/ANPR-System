{
 "cells": [
  {
   "cell_type": "code",
   "execution_count": null,
   "id": "341dc5bd",
   "metadata": {},
   "outputs": [],
   "source": [
    "import cv2\n",
    "import numpy as np"
   ]
  },
  {
   "cell_type": "code",
   "execution_count": null,
   "id": "7fc470d2",
   "metadata": {},
   "outputs": [],
   "source": [
    "class PossiblePlate:    \n",
    "    def __init__(self):\n",
    "        self.imgPlate = None\n",
    "        self.imgGrayscale = None\n",
    "        self.imgThresh = None\n",
    "        self.rrLocationOfPlateInScene = None\n",
    "        self.strChars = \"\"\n",
    "    # end constructor\n",
    "\n",
    "# end class"
   ]
  }
 ],
 "metadata": {
  "kernelspec": {
   "display_name": "Python 3",
   "language": "python",
   "name": "python3"
  },
  "language_info": {
   "codemirror_mode": {
    "name": "ipython",
    "version": 3
   },
   "file_extension": ".py",
   "mimetype": "text/x-python",
   "name": "python",
   "nbconvert_exporter": "python",
   "pygments_lexer": "ipython3",
   "version": "3.8.8"
  }
 },
 "nbformat": 4,
 "nbformat_minor": 5
}
